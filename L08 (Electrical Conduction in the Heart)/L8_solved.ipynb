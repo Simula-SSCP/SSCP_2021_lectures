{
 "cells": [
  {
   "cell_type": "markdown",
   "metadata": {},
   "source": [
    "<!-- dom:TITLE: Solution to exercises, cable equation -->\n",
    "# Solution to exercises, cable equation\n",
    "<!-- dom:AUTHOR: Joakim Sundnes -->\n",
    "<!-- Author: -->  \n",
    "**Joakim Sundnes**\n",
    "\n",
    "Date: **Jun 2, 2021**\n",
    "\n",
    "## Bistable equation\n",
    "\n",
    "We want to solve the bistable equation on an interval $\\Omega =[0,L]$:"
   ]
  },
  {
   "cell_type": "markdown",
   "metadata": {},
   "source": [
    "$$\n",
    "\\begin{alignat*}{2}\n",
    "v_t &= kv_{xx} + Av(1-v)(v-\\alpha) & \\mbox{ for } & t> 0, 0 < x < L, \\\\\n",
    "v_x &= 0 & \\mbox{ for } &x = 0, x = L, \\\\\n",
    "v & = v_0 &\\mbox{ for } &t = 0, 0 < x = < L/10, \\\\\n",
    "v & = 0 &\\mbox{ for } &t = 0, L/10< x = < L,\n",
    "\\end{alignat*}\n",
    "$$"
   ]
  },
  {
   "cell_type": "markdown",
   "metadata": {},
   "source": [
    "with"
   ]
  },
  {
   "cell_type": "markdown",
   "metadata": {},
   "source": [
    "$$\n",
    "\\begin{alignat*}{2}\n",
    "k &= 1.0, A &= 1.0, \\alpha &= 0.1 \\\\\n",
    "L &= 100, v0&= 0.3. &\n",
    "\\end{alignat*}\n",
    "$$"
   ]
  },
  {
   "cell_type": "markdown",
   "metadata": {},
   "source": [
    "(Note that we have used the compact notation $v_t = \\partial\n",
    "v/\\partial t, v_{xx} = \\partial^2v/\\partial x^2$.)\n",
    "\n",
    "\n",
    "\n",
    "## Explicit update scheme for $v$"
   ]
  },
  {
   "cell_type": "markdown",
   "metadata": {},
   "source": [
    "$$\n",
    "\\begin{align*}\n",
    "v_0^{j+1} &= v_0^j +\\frac{k \\Delta t}{\\Delta x^2} 2 (v_1^j-v_0^j)\n",
    "+\\Delta t f(v_0^j) \\\\\n",
    "v_i^{j+1}  &= v_0^j +\\frac{k \\Delta t}{\\Delta x^2} (v_{i-1}^j-2v_i^j+v_{i+1}^j)\n",
    "+\\Delta t f(v_0^j), i = 1, \\cdots, N-1 \\\\\n",
    "v_N^{j+1} &= v_N^j +\\frac{k \\Delta t}{\\Delta x^2} 2 (v_{N-1}^j-v_N^j)\n",
    "+\\Delta t f(v_N^j)\n",
    "\\end{align*}\n",
    "$$"
   ]
  },
  {
   "cell_type": "markdown",
   "metadata": {},
   "source": [
    "## Bistable equation in Python\n",
    "Use a Numpy array for the solution, and a loop over time steps"
   ]
  },
  {
   "cell_type": "code",
   "execution_count": 1,
   "metadata": {
    "collapsed": false
   },
   "outputs": [],
   "source": [
    "%matplotlib inline\n",
    "\n",
    "%matplotlib inline\n",
    "import matplotlib.pyplot as plt\n",
    "from IPython import display\n",
    "import numpy as np\n",
    "\n",
    "k = 2.0\n",
    "A = 1.0\n",
    "alpha = 0.1\n",
    "L = 100\n",
    "\n",
    "dx = 1;\n",
    "dt = 0.1;\n",
    "\n",
    "N = int(L/dx)\n",
    "\n",
    "v = np.zeros(N)\n",
    "\n",
    "v = np.zeros(N)\n",
    "v_prev = v\n",
    "left =  int(N/10)\n",
    "v_prev[:left] = 0.3\n",
    "\n",
    "for i in range (1400):\n",
    "    for j in range(1,N-1):\n",
    "        I_ion = A*v_prev[j]*(1-v_prev[j])*(v_prev[j]-alpha)\n",
    "        v[j]  = v_prev[j] + dt*(k/dx**2)*(v_prev[j+1]-2*v_prev[j]+v_prev[j-1]) +dt*I_ion\n",
    "    v[0] = v[1]\n",
    "    v[N-1] = v[N-2]\n",
    "    v_prev = v\n",
    "    if i%20==0:  #to avoid displaying every time step\n",
    "        plt.clf()\n",
    "        plt.axis([0, L, 0, 1.1])\n",
    "        plt.plot(v)\n",
    "        plt.title('i=%d' % i)\n",
    "        display.clear_output(wait=True)\n",
    "        display.display(plt.gcf())"
   ]
  },
  {
   "cell_type": "markdown",
   "metadata": {},
   "source": [
    "## Comments on the code\n",
    "* The solution is not saved, but overwritten for every step.\n",
    "\n",
    "* Loops in Python are slow. Can you update $v$ without looping over the spatial domain?"
   ]
  },
  {
   "cell_type": "code",
   "execution_count": 2,
   "metadata": {
    "collapsed": false
   },
   "outputs": [],
   "source": [
    "k = 2.0\n",
    "A = 1.0\n",
    "alpha = 0.1\n",
    "L = 100\n",
    "\n",
    "dx = 1;\n",
    "dt = 0.1;\n",
    "\n",
    "N = int(L/dx)\n",
    "\n",
    "v = np.zeros(N)\n",
    "left =  int(N/10)\n",
    "v[:left] = 0.3\n",
    "\n",
    "#introduce the appropriate arrays for slicing:\n",
    "I = np.arange(1,N-1)\n",
    "Ip = I+1\n",
    "Im = I-1\n",
    "\n",
    "for i in range (1400):\n",
    "    I_ion = A*v*(1-v)*(v-alpha)\n",
    "    v[I] = v[I] + dt*(k/dx**2)*(v[Ip]-2*v[I] +v[Im])\n",
    "    v = v + dt*I_ion;\n",
    "    v[0] = v[1]\n",
    "    v[N-1] = v[N-2]\n",
    "\n",
    "    if i%20==0:  #to avoid displaying every time step\n",
    "        plt.clf()\n",
    "        plt.axis([0, L, 0, 1.1])\n",
    "        plt.plot(v)\n",
    "        plt.title('i=%d' % i)\n",
    "        display.clear_output(wait=True)\n",
    "        display.display(plt.gcf())"
   ]
  },
  {
   "cell_type": "markdown",
   "metadata": {},
   "source": [
    "## Solving the FitzHugh-Nagumo (FHN) model\n",
    "A small modification of the bistable equation gives the\n",
    "FHN model:"
   ]
  },
  {
   "cell_type": "markdown",
   "metadata": {},
   "source": [
    "$$\n",
    "\\begin{alignat*}{2}\n",
    "v_t &= kv_{xx} + Av(1-v)(v-\\alpha) -w & \\mbox{ for } & t> 0, 0 < x < L, \\\\\n",
    "w_t &= \\epsilon (v-\\gamma w) & \\mbox{ for } & t> 0, 0 < x < L, \\\\\n",
    "v_x &= 0 & \\mbox{ for } &x = 0, x = L, \\\\\n",
    "v & = v_0 &\\mbox{ for } &t = 0, 0 < x = < L/10, \\\\\n",
    "v & = 0 &\\mbox{ for } &t = 0, L/10< x = < L,\n",
    "\\end{alignat*}\n",
    "$$"
   ]
  },
  {
   "cell_type": "markdown",
   "metadata": {},
   "source": [
    "The additional parameters are set to"
   ]
  },
  {
   "cell_type": "markdown",
   "metadata": {},
   "source": [
    "$$\n",
    "\\epsilon = 0.005, \\gamma = 2.0 .\n",
    "$$"
   ]
  },
  {
   "cell_type": "markdown",
   "metadata": {},
   "source": [
    "Extend the solver from above to solve the FHN model.\n",
    "\n",
    "\n",
    "## FHN in Python\n",
    "Update the solver from above to solve the FHN model"
   ]
  },
  {
   "cell_type": "code",
   "execution_count": 3,
   "metadata": {
    "collapsed": false
   },
   "outputs": [],
   "source": [
    "k = 2.0\n",
    "A = 1.0\n",
    "alpha = 0.1\n",
    "L =100\n",
    "eps = 0.005\n",
    "gamma = 2.0\n",
    "\n",
    "v = np.zeros(N)\n",
    "w = np.zeros(N)\n",
    "left = int(N/10)\n",
    "v[:left] = 0.3\n",
    "I = np.arange(1,N-1)\n",
    "Ip = I+1\n",
    "Im = I-1\n",
    "\n",
    "for i in range (1400):\n",
    "    I_ion = A*v*(1-v)*(v-alpha) -w\n",
    "    v[I] = v[I] + dt*(k/dx**2)*(v[Ip]-2*v[I] +v[Im])\n",
    "    v = v + dt*I_ion;\n",
    "    w = w + dt*eps*(v-gamma*w)\n",
    "\n",
    "    v[0] = v[1]\n",
    "    v[N-1] = v[N-2]\n",
    "\n",
    "    if i%20==0:  #to avoid displaying every time step\n",
    "        plt.clf()\n",
    "        plt.axis([0, L, 0, 1.1])\n",
    "        plt.plot(v)\n",
    "        plt.title('i=%d' % i)\n",
    "        display.clear_output(wait=True)\n",
    "        display.display(plt.gcf())"
   ]
  },
  {
   "cell_type": "markdown",
   "metadata": {},
   "source": [
    "## Simulating reentry (1)\n",
    "\n",
    "We can model a simple reentrant circuit with periodic boundary\n",
    "conditions:"
   ]
  },
  {
   "cell_type": "markdown",
   "metadata": {},
   "source": [
    "$$\n",
    "v(0) = v(L)\n",
    "$$"
   ]
  },
  {
   "cell_type": "markdown",
   "metadata": {},
   "source": [
    "* Implement this condition in the FHN solver\n",
    "\n",
    "* What happens? Why?"
   ]
  },
  {
   "cell_type": "code",
   "execution_count": 4,
   "metadata": {
    "collapsed": false
   },
   "outputs": [],
   "source": [
    "k = 2.0\n",
    "A = 1.0\n",
    "alpha = 0.1\n",
    "L =100\n",
    "eps = 0.005\n",
    "gamma = 2.0\n",
    "\n",
    "v = np.zeros(N)\n",
    "w = np.zeros(N)\n",
    "left = int(N/10)\n",
    "v[:left] = 0.3\n",
    "#mid =  int(N/2);\n",
    "#v[mid-10:mid+10] = 0.3;\n",
    "#w[:int(0.9*mid)] = 0.1\n",
    "\n",
    "I = np.arange(N)\n",
    "Ip = I+1\n",
    "Ip[N-1] = 0\n",
    "Im = I-1;\n",
    "Im[0] = N-1\n",
    "\n",
    "for i in range (1400):\n",
    "    I_ion = A*v*(1-v)*(v-alpha) -w\n",
    "    v[I] = v[I] + dt*(k/dx**2)*(v[Ip]-2*v[I] +v[Im])\n",
    "    v = v + dt*I_ion;\n",
    "    w = w + dt*eps*(v-gamma*w)\n",
    "\n",
    "    #v[0] = v[1]\n",
    "    #v[N-1] = v[N-2]\n",
    "\n",
    "    if i%20==0:  #to avoid displaying every time step\n",
    "        plt.clf()\n",
    "        plt.axis([0, L, 0, 1.1])\n",
    "        plt.plot(v)\n",
    "        plt.title('i=%d' % i)\n",
    "        display.clear_output(wait=True)\n",
    "        display.display(pl.gcf())"
   ]
  },
  {
   "cell_type": "markdown",
   "metadata": {},
   "source": [
    "## Simulating reentry (2)\n",
    "Modify the initial condition to:"
   ]
  },
  {
   "cell_type": "code",
   "execution_count": 5,
   "metadata": {
    "collapsed": false
   },
   "outputs": [],
   "source": [
    "mid = int(N/2)\n",
    "V[mid-2:mid+2] = 0.3"
   ]
  },
  {
   "cell_type": "markdown",
   "metadata": {},
   "source": [
    "What happens?\n",
    "\n",
    "Now, add the line"
   ]
  },
  {
   "cell_type": "code",
   "execution_count": 6,
   "metadata": {
    "collapsed": false
   },
   "outputs": [],
   "source": [
    "W[:int(0.9*mid)] = 1"
   ]
  },
  {
   "cell_type": "markdown",
   "metadata": {},
   "source": [
    "What happens? Why?"
   ]
  }
 ],
 "metadata": {},
 "nbformat": 4,
 "nbformat_minor": 4
}
